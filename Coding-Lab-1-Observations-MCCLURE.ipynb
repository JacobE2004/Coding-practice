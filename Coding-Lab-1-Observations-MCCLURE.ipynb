{
 "cells": [
  {
   "cell_type": "markdown",
   "id": "0bc1499b-5605-4a8f-a539-43794e88a168",
   "metadata": {},
   "source": [
    "# Coding Lab 1\n",
    "## Variables, Math, Data Types, Functions, and Loops\n",
    "## Observational Methods\n",
    "### AST4301, Prof. Fausnaugh\n",
    "### **Due 2024 Jan 26, Start of Class**\n",
    "\n",
    "#### To turn this assignment in, fill in your answers directly into this file (in section \"5. Questions\"). Then right click on 'Coding-Lab-1-Observations.ipynb' in the navigation bar to the left and select \"Download\". Rename the Downloaded file as 'Coding-Lab-1-Observations-LastName.ipynb`. Then email me the file, Michael.Fausnaugh@ttu.edu.\n",
    "\n",
    "#### Let me know if you have any technical difficulties, and let me know if you have any questions.\n",
    "\n",
    "In this coding lab, we will learn some basic Python syntax. We will learn how to define a function, and perform several rounds of large calculations in the blink of an eye.\n",
    "\n",
    "We will use some of the equations that we went over in class, as a way to practice observational methods.\n",
    "\n",
    "This Coding Lab assumes you do not have any experience with Python or programming. If you want to skip down to Section 5, that is where the problems begin."
   ]
  },
  {
   "cell_type": "markdown",
   "id": "ddf53463-fe0f-4a39-9956-9699f5c3b618",
   "metadata": {},
   "source": [
    "## 1. Variables and Math\n"
   ]
  },
  {
   "cell_type": "markdown",
   "id": "47fa8d17-a05a-4be9-ba98-5c3d877a2ab1",
   "metadata": {},
   "source": [
    "\n",
    "You can assign a name to data, in order to reuse the data later. These names are called \"variables,\" and are the way you access the data for future operations. You can name a variable almost anything; the main restrications are (1) the variable cannot start with a number, and (2) the variable cannot have special characters (!,@,#,$, etc.).\n",
    "\n",
    "Numbers in the variable name after the first letter are OK. Underscores \"_\" are also OK, and commonly used in python to separate words.\n",
    "\n",
    "Here are some examples:"
   ]
  },
  {
   "cell_type": "code",
   "execution_count": 37,
   "id": "d99f90aa-3d2d-48b7-ab66-7f25d75355f9",
   "metadata": {},
   "outputs": [],
   "source": [
    "a = 100\n",
    "b =  3.333\n",
    "sqrt_two = 1.4142135623730951\n",
    "pi = 3.14\n",
    "L_sun = 3.8e33"
   ]
  },
  {
   "cell_type": "markdown",
   "id": "8926eae5-7e91-4cec-83a2-21dfd9c51382",
   "metadata": {},
   "source": [
    "There are a mix of \"data types\" : `a` is an integer. `L_sun` is an exponent, this is how we specify scientific notation---we've set `L_sun` equal to the solar luminosity, $L_{\\odot} = 3.8\\times 10^{33}$.\n",
    "\n",
    "Just to emphasize that we really can name the variables anything, we can also write"
   ]
  },
  {
   "cell_type": "code",
   "execution_count": 38,
   "id": "ad8dbccb-8cc6-4351-9c56-267f17829daa",
   "metadata": {},
   "outputs": [],
   "source": [
    "my_variable = 1.4142135623730951"
   ]
  },
  {
   "cell_type": "markdown",
   "id": "287e2a8d-c9bb-4d07-923b-c56ed704a0cf",
   "metadata": {},
   "source": [
    "The following mathematical operators are available:\n",
    "\n",
    "- `+` : Addition\n",
    "- `-` : Subtraction\n",
    "- `*` : Multiplication\n",
    "- `/` : Division\n",
    "- `**`: Exponentiation\n",
    "\n",
    "You can use these operators like so:"
   ]
  },
  {
   "cell_type": "code",
   "execution_count": 39,
   "id": "869064e7-a2b4-4fdc-ae65-37559f9a513d",
   "metadata": {},
   "outputs": [
    {
     "data": {
      "text/plain": [
       "96.667"
      ]
     },
     "execution_count": 39,
     "metadata": {},
     "output_type": "execute_result"
    }
   ],
   "source": [
    "a - b"
   ]
  },
  {
   "cell_type": "code",
   "execution_count": 40,
   "id": "f0faa451-edfb-4888-91f2-4b83a8ced442",
   "metadata": {},
   "outputs": [
    {
     "data": {
      "text/plain": [
       "333.3"
      ]
     },
     "execution_count": 40,
     "metadata": {},
     "output_type": "execute_result"
    }
   ],
   "source": [
    "a*b"
   ]
  },
  {
   "cell_type": "code",
   "execution_count": 41,
   "id": "f03a14ca-6e51-4e60-a46b-a7dbedbee957",
   "metadata": {},
   "outputs": [
    {
     "data": {
      "text/plain": [
       "10000"
      ]
     },
     "execution_count": 41,
     "metadata": {},
     "output_type": "execute_result"
    }
   ],
   "source": [
    "a**2"
   ]
  },
  {
   "cell_type": "code",
   "execution_count": 42,
   "id": "8e1df7fc-70c3-4d8e-8155-c02d870bbeff",
   "metadata": {},
   "outputs": [
    {
     "data": {
      "text/plain": [
       "31400.0"
      ]
     },
     "execution_count": 42,
     "metadata": {},
     "output_type": "execute_result"
    }
   ],
   "source": [
    "pi*a**2"
   ]
  },
  {
   "cell_type": "markdown",
   "id": "e5792b51-f8c4-4d6a-8729-60986aad7068",
   "metadata": {},
   "source": [
    "Python respects order of operations, but it is best to explicitly specify what you want with parentheses. For example"
   ]
  },
  {
   "cell_type": "code",
   "execution_count": 43,
   "id": "895e03a6-6d00-41f3-9b5b-870ac2818022",
   "metadata": {},
   "outputs": [
    {
     "data": {
      "text/plain": [
       "31400.0"
      ]
     },
     "execution_count": 43,
     "metadata": {},
     "output_type": "execute_result"
    }
   ],
   "source": [
    "(a**2)*pi"
   ]
  },
  {
   "cell_type": "code",
   "execution_count": 44,
   "id": "16f54363-1ffd-4516-a3c9-bde676d84d7c",
   "metadata": {},
   "outputs": [
    {
     "data": {
      "text/plain": [
       "3630780547701.0176"
      ]
     },
     "execution_count": 44,
     "metadata": {},
     "output_type": "execute_result"
    }
   ],
   "source": [
    "a**(2*pi)"
   ]
  },
  {
   "cell_type": "markdown",
   "id": "85048f31-27a0-46d3-8330-2f0861a51b29",
   "metadata": {},
   "source": [
    "There are more operators available, including logical operators. You can think of these as questions, which the computer will answer:\n",
    "- `var1 == var2`: `var1` Equal to `var2`?\n",
    "- `var1 > var2`:  `var1`  Greater than `var2`?\n",
    "- `var1 >= var2`: `var1` Greater than or equal to `var2`?\n",
    "- `var1 < var2`:   `var1` Less than `var2`?\n",
    "- `var1 <=var2`: `var1` Less than or equal to `var2`? "
   ]
  },
  {
   "cell_type": "code",
   "execution_count": 45,
   "id": "1d85e231-cf48-4bec-bce9-6dfe58cbf8cc",
   "metadata": {},
   "outputs": [
    {
     "data": {
      "text/plain": [
       "True"
      ]
     },
     "execution_count": 45,
     "metadata": {},
     "output_type": "execute_result"
    }
   ],
   "source": [
    "sqrt_two = 1.4142135623730951\n",
    "my_variable = 1.4142135623730951\n",
    "sqrt_two == my_variable"
   ]
  },
  {
   "cell_type": "code",
   "execution_count": 46,
   "id": "de657d26-9790-4c44-8ade-cf76fddf1310",
   "metadata": {},
   "outputs": [
    {
     "data": {
      "text/plain": [
       "False"
      ]
     },
     "execution_count": 46,
     "metadata": {},
     "output_type": "execute_result"
    }
   ],
   "source": [
    "a = 100\n",
    "b =  3.333\n",
    "b > a"
   ]
  },
  {
   "cell_type": "markdown",
   "id": "638063fe-af0a-440e-9c80-06283991330d",
   "metadata": {},
   "source": [
    "We can assign variables to the results of expressions:"
   ]
  },
  {
   "cell_type": "code",
   "execution_count": 47,
   "id": "9225b6a1-c432-4bcf-912f-167e3254b775",
   "metadata": {},
   "outputs": [
    {
     "data": {
      "text/plain": [
       "31400.0"
      ]
     },
     "execution_count": 47,
     "metadata": {},
     "output_type": "execute_result"
    }
   ],
   "source": [
    "area = pi*(a**2)\n",
    "area"
   ]
  },
  {
   "cell_type": "markdown",
   "id": "8ea6e207-904e-416f-af89-2dc98666d580",
   "metadata": {},
   "source": [
    "And we can rename variables at anytime. "
   ]
  },
  {
   "cell_type": "code",
   "execution_count": 48,
   "id": "1d519c75-4d08-4cf8-bfbc-9a82f9d4bce3",
   "metadata": {},
   "outputs": [
    {
     "data": {
      "text/plain": [
       "31400.0"
      ]
     },
     "execution_count": 48,
     "metadata": {},
     "output_type": "execute_result"
    }
   ],
   "source": [
    "b = 3.33\n",
    "b = pi*(a**2)\n",
    "b"
   ]
  },
  {
   "cell_type": "markdown",
   "id": "22b54dae-3a55-4e03-9e21-853b891da2ca",
   "metadata": {},
   "source": [
    "We can even reasign a variable with an expression using itself."
   ]
  },
  {
   "cell_type": "code",
   "execution_count": 49,
   "id": "6c27153d-6cd5-409d-b540-1f5fb2c50349",
   "metadata": {},
   "outputs": [
    {
     "data": {
      "text/plain": [
       "62800.0"
      ]
     },
     "execution_count": 49,
     "metadata": {},
     "output_type": "execute_result"
    }
   ],
   "source": [
    "a = 100\n",
    "area = pi*(a**2)\n",
    "area = area + area\n",
    "area"
   ]
  },
  {
   "cell_type": "markdown",
   "id": "221a5810-21f2-4285-95f6-22089365b82f",
   "metadata": {},
   "source": [
    "## 2. Other Data Types and Containers\n"
   ]
  },
  {
   "cell_type": "markdown",
   "id": "27e6c6a2-ad99-40b4-a6ec-4d4208ddc960",
   "metadata": {},
   "source": [
    "Besides numbers, you can assign text and `True`/`False` values to a variable. Text variables are called \"strings.\" Logical variables are called \"booleans.\"\n",
    "\n",
    "You specify strings with either double or single quotes, as long as they are consistent:"
   ]
  },
  {
   "cell_type": "code",
   "execution_count": 50,
   "id": "cbc9d1ac-3f92-4e51-8ef9-a232dd435d5e",
   "metadata": {},
   "outputs": [
    {
     "data": {
      "text/plain": [
       "'Hello World!'"
      ]
     },
     "execution_count": 50,
     "metadata": {},
     "output_type": "execute_result"
    }
   ],
   "source": [
    "my_message = \"Hello World!\"\n",
    "my_message"
   ]
  },
  {
   "cell_type": "code",
   "execution_count": 51,
   "id": "2fe33a4d-d016-4cd4-b424-64d8d1bb8ac1",
   "metadata": {},
   "outputs": [
    {
     "data": {
      "text/plain": [
       "'The Sun, and Sirius. Planets are also bright.'"
      ]
     },
     "execution_count": 51,
     "metadata": {},
     "output_type": "execute_result"
    }
   ],
   "source": [
    "bright_objs = 'The Sun, and Sirius. Planets are also bright.'\n",
    "bright_objs"
   ]
  },
  {
   "cell_type": "markdown",
   "id": "4aca2b22-03a2-4028-a15f-654858d187ad",
   "metadata": {},
   "source": [
    "For booleans, you use the keywords `True` and `False`"
   ]
  },
  {
   "cell_type": "code",
   "execution_count": 52,
   "id": "cc0f67d1-21b9-4f24-b0fa-d69170b9e6ab",
   "metadata": {},
   "outputs": [
    {
     "data": {
      "text/plain": [
       "True"
      ]
     },
     "execution_count": 52,
     "metadata": {},
     "output_type": "execute_result"
    }
   ],
   "source": [
    "truth_test = True\n",
    "truth_test"
   ]
  },
  {
   "cell_type": "code",
   "execution_count": 53,
   "id": "52b69744-836e-4504-9f9e-e962130150d2",
   "metadata": {},
   "outputs": [
    {
     "data": {
      "text/plain": [
       "False"
      ]
     },
     "execution_count": 53,
     "metadata": {},
     "output_type": "execute_result"
    }
   ],
   "source": [
    "truth_test2 = False\n",
    "truth_test2"
   ]
  },
  {
   "cell_type": "markdown",
   "id": "9a7879d3-d474-4403-8803-d6f553cd0e9a",
   "metadata": {},
   "source": [
    "There are special data types that can hold multiple variables. These are sometimes referred to as \"containers\" or \"collections.\" The main ones to be aware of are\n",
    "\n",
    "- Lists, defined with `[ ]`\n",
    "- Tuples, defined with `( )`\n",
    "- Sets, defined with `{ }`\n",
    "- Dictionaries, defined with `{ <keyword> : data }`\n",
    "\n",
    "We will only use lists today. You can make a list like this:"
   ]
  },
  {
   "cell_type": "code",
   "execution_count": 54,
   "id": "21fccd0d-b59c-4aa2-989f-eeda991f6580",
   "metadata": {},
   "outputs": [
    {
     "data": {
      "text/plain": [
       "[100, 200, 300, 3.14]"
      ]
     },
     "execution_count": 54,
     "metadata": {},
     "output_type": "execute_result"
    }
   ],
   "source": [
    "a = 100\n",
    "b = 200\n",
    "c = 300\n",
    "pi = 3.14\n",
    "\n",
    "my_first_list = [a, b, c, pi]\n",
    "my_first_list"
   ]
  },
  {
   "cell_type": "markdown",
   "id": "0eabc850-9fb9-4ece-87bf-f825f733a253",
   "metadata": {},
   "source": [
    "You access elements of the list using an \"index.\" The first element of the list is index 0, the second is index 1, the third is index 2, etc. Note that other programming languages use indices starting at 1.\n",
    "\n",
    "In anycase, to get an element of the list:"
   ]
  },
  {
   "cell_type": "code",
   "execution_count": 55,
   "id": "bc21fd57-8c16-42ec-b80d-babd75d0c622",
   "metadata": {},
   "outputs": [
    {
     "data": {
      "text/plain": [
       "100"
      ]
     },
     "execution_count": 55,
     "metadata": {},
     "output_type": "execute_result"
    }
   ],
   "source": [
    "my_first_list[0]"
   ]
  },
  {
   "cell_type": "code",
   "execution_count": 56,
   "id": "3097f4d0-8d11-4c00-a07b-e1ffd79148cb",
   "metadata": {},
   "outputs": [
    {
     "data": {
      "text/plain": [
       "3.14"
      ]
     },
     "execution_count": 56,
     "metadata": {},
     "output_type": "execute_result"
    }
   ],
   "source": [
    "my_first_list[3]"
   ]
  },
  {
   "cell_type": "markdown",
   "id": "4a7f9842-a2ca-4754-8636-46f466a2892a",
   "metadata": {},
   "source": [
    "Similar to above, you can replace the element in a list anytime. You can also mix and match data types inside of a list:"
   ]
  },
  {
   "cell_type": "code",
   "execution_count": 57,
   "id": "8eac1a9b-bd50-4bd8-93f6-ada85e70872e",
   "metadata": {},
   "outputs": [
    {
     "data": {
      "text/plain": [
       "[100, 200, 'a test string', 3.14]"
      ]
     },
     "execution_count": 57,
     "metadata": {},
     "output_type": "execute_result"
    }
   ],
   "source": [
    "my_first_list[2] = \"a test string\"\n",
    "my_first_list"
   ]
  },
  {
   "cell_type": "markdown",
   "id": "3cc89ae7-d476-4e6c-a6bf-772c26f26665",
   "metadata": {},
   "source": [
    "An index can be a variable, and you can pass the variable to the list to get an element:"
   ]
  },
  {
   "cell_type": "code",
   "execution_count": 58,
   "id": "0b24991f-a0ed-45ed-a4b8-d5423cc50cdf",
   "metadata": {},
   "outputs": [
    {
     "data": {
      "text/plain": [
       "'a test string'"
      ]
     },
     "execution_count": 58,
     "metadata": {},
     "output_type": "execute_result"
    }
   ],
   "source": [
    "ii = 2\n",
    "my_first_list[ii]"
   ]
  },
  {
   "cell_type": "markdown",
   "id": "0e08a4f7-c20f-473b-a2da-6e70473d6079",
   "metadata": {},
   "source": [
    "Python gives an error when you give a list index out of range. This is called an Exception, and is useful for figuring out invalid lines of code. Python is pretty good as far as it goes, it will at least tell you what variable is causing problems (`my_first_list` in this example) and what kind of Exception occured (`IndexError`)."
   ]
  },
  {
   "cell_type": "code",
   "execution_count": 59,
   "id": "da33b288-70a8-4c49-b86e-72cb0a3bf804",
   "metadata": {},
   "outputs": [
    {
     "ename": "IndexError",
     "evalue": "list index out of range",
     "output_type": "error",
     "traceback": [
      "\u001b[1;31m---------------------------------------------------------------------------\u001b[0m",
      "\u001b[1;31mIndexError\u001b[0m                                Traceback (most recent call last)",
      "Cell \u001b[1;32mIn[59], line 1\u001b[0m\n\u001b[1;32m----> 1\u001b[0m my_first_list[\u001b[38;5;241m4\u001b[39m]\n",
      "\u001b[1;31mIndexError\u001b[0m: list index out of range"
     ]
    }
   ],
   "source": [
    "my_first_list[4]"
   ]
  },
  {
   "cell_type": "markdown",
   "id": "17bf5e6a-65ba-4f8b-99d4-b51890b2994d",
   "metadata": {},
   "source": [
    "## 3. Functions"
   ]
  },
  {
   "cell_type": "markdown",
   "id": "6266c9a5-2c5f-45a2-aee3-28916be3f3e9",
   "metadata": {
    "jp-MarkdownHeadingCollapsed": true
   },
   "source": [
    "\n",
    "Everything we have done so far you can also do on a calculator. Programmable and graphing calculators can do some extra things, but you get much more flexibility in a scripting language like Python. One key to doing this is to use a function.\n",
    "\n",
    "Functions map input to output. Computer scientists borrow a lot of the language from mathematics (set theory), to talk about how functions work, and define what sort of input maps to what sort of output, etc. We don't need anything so complicated here, though it is worth knowing that functions can be thought of in a very general way.\n",
    "\n",
    "Here is an example of a function that calculates the square of a number:\n"
   ]
  },
  {
   "cell_type": "code",
   "execution_count": null,
   "id": "5f48b66e-1a9d-4efe-88d6-4da325960a92",
   "metadata": {},
   "outputs": [],
   "source": [
    "def gimme_the_square(argument1):\n",
    "    output = argument1*argument1\n",
    "    return output"
   ]
  },
  {
   "cell_type": "markdown",
   "id": "1c4d3140-87ed-4e03-a272-b2553b450a08",
   "metadata": {},
   "source": [
    "And you would use this function like this:"
   ]
  },
  {
   "cell_type": "code",
   "execution_count": null,
   "id": "f8455188-0980-468e-a269-f544cd823c32",
   "metadata": {},
   "outputs": [
    {
     "data": {
      "text/plain": [
       "9.796899999999999"
      ]
     },
     "execution_count": 23,
     "metadata": {},
     "output_type": "execute_result"
    }
   ],
   "source": [
    "pi = 3.13\n",
    "gimme_the_square(pi)"
   ]
  },
  {
   "cell_type": "markdown",
   "id": "6ad61617-bfe4-42f5-82a8-7ad88eec9263",
   "metadata": {},
   "source": [
    "Here is a function that calculates the product of three numbers:"
   ]
  },
  {
   "cell_type": "code",
   "execution_count": null,
   "id": "d7f03e34-9310-45c8-9f3f-8d9afb721a0c",
   "metadata": {},
   "outputs": [
    {
     "data": {
      "text/plain": [
       "2184"
      ]
     },
     "execution_count": 24,
     "metadata": {},
     "output_type": "execute_result"
    }
   ],
   "source": [
    "def triple_product(arg1,arg2,arg3):\n",
    "    return arg1*arg2*arg3\n",
    "\n",
    "a = 12\n",
    "b = 13\n",
    "c = 14\n",
    "triple_product(a,b,c)"
   ]
  },
  {
   "cell_type": "markdown",
   "id": "b62a30fa-ef19-46c5-b207-7692c0889a1e",
   "metadata": {},
   "source": [
    "In this example, we have 3 inputs, which we call \"arguments\" of the function.\n",
    "\n",
    "Notice in the first example, there was an intermediate step where we defined an `output` variable and then returned the `output` variable. This choice is a matter of taste---there are lots of ways to code up a problem to get the right answer, and we would see no differenct if we had just one line, `return argument1*argument1`.  Under the hood, Python allocates some extra memory to store the value of `argument1*argument2` before returning that value. This makes no difference for our code, but in some cases you might want to think about what the computer is actually doing when you assign a variable. But we won't worry about that today.\n",
    "\n",
    "We can also have a function return multiple values:\n"
   ]
  },
  {
   "cell_type": "code",
   "execution_count": null,
   "id": "6cce3175-8ebc-44f7-83fa-4474691a3b03",
   "metadata": {},
   "outputs": [
    {
     "data": {
      "text/plain": [
       "(0.1, 0.05, 0.03333333333333333)"
      ]
     },
     "execution_count": 25,
     "metadata": {},
     "output_type": "execute_result"
    }
   ],
   "source": [
    "def harmonic_series(arg1):\n",
    "    return 1./arg1, 1./(2*arg1), 1./(3*arg1)\n",
    "\n",
    "harmonic_series(10)"
   ]
  },
  {
   "cell_type": "markdown",
   "id": "7433f765-a7d1-429e-869d-370e2d0b7088",
   "metadata": {},
   "source": [
    "Notice that Python packaged the 3 values for us, the `( )` gives us a \"tuple.\" Python is forgiving in this way, but it is always better to be explicit about what you want. In particular, we are focusing on lists today, so we prefer to write this as:"
   ]
  },
  {
   "cell_type": "code",
   "execution_count": null,
   "id": "5ef7bc42-6a8d-45c3-b12f-dea2271650e2",
   "metadata": {},
   "outputs": [
    {
     "data": {
      "text/plain": [
       "[0.1, 0.05, 0.03333333333333333]"
      ]
     },
     "execution_count": 26,
     "metadata": {},
     "output_type": "execute_result"
    }
   ],
   "source": [
    "def harmonic_series(arg1):\n",
    "    output_as_a_list = [1./arg1, 1./(2*arg1), 1./(3*arg1)]\n",
    "    return output_as_a_list\n",
    "    \n",
    "harmonic_series(10)"
   ]
  },
  {
   "cell_type": "markdown",
   "id": "cb6b3417-befb-41ae-b642-d2ff8b5d6783",
   "metadata": {},
   "source": [
    "If you need the output for later, assign the output to a new variable"
   ]
  },
  {
   "cell_type": "code",
   "execution_count": null,
   "id": "f33b6230-9fde-4fb3-9ff3-23e0ed6a8517",
   "metadata": {},
   "outputs": [
    {
     "data": {
      "text/plain": [
       "[0.1, 0.05, 0.03333333333333333]"
      ]
     },
     "execution_count": 27,
     "metadata": {},
     "output_type": "execute_result"
    }
   ],
   "source": [
    "result = harmonic_series(10)\n",
    "result"
   ]
  },
  {
   "cell_type": "markdown",
   "id": "0eed0430-428b-478d-8353-2493d1518ea2",
   "metadata": {},
   "source": [
    "Python has a lot of built in functions. You can (and should) read about them here: https://docs.python.org/3/library/functions.html.\n",
    "\n",
    "Some built-in functions are mathy, like `abs()` (absolute value), `pow()` (for \"power\", really exponentiation); some are computer science-y, like `repr()`, `globals()`,`locals()`, and `setattr()`. Others are maybe inbetween, but end up just being super convenient. In particular:\n",
    "\n",
    "- `print(arg1,arg2,...)`: Print the contents of the variables `arg1`,`arg2`,... etc.\n",
    "- `type` : return the data type of the argument\n",
    "- `min`,`max`,`len`: get the minimum value of a list, the maximum value of a list, and the number of elements of a list.\n",
    "\n",
    "`print` is very helpful, since we can now check what is happening in large chunks of code."
   ]
  },
  {
   "cell_type": "code",
   "execution_count": null,
   "id": "6fb37f42-5a34-4f9c-b456-cd93810f4f5b",
   "metadata": {},
   "outputs": [
    {
     "name": "stdout",
     "output_type": "stream",
     "text": [
      "3 4 blah!\n",
      "here is a second print statement, which will keep track of where we are in the output.\n",
      "The area of a circle with radius 2 is: 12.52\n",
      "min of list: 1\n",
      "max of list: 4\n",
      "number of elements in list: 4\n"
     ]
    }
   ],
   "source": [
    "a = 3\n",
    "b = 4\n",
    "c = 'blah!'\n",
    "print(a,b,c)\n",
    "\n",
    "print('here is a second print statement, which will keep track of where we are in the output.')\n",
    "print(\"The area of a circle with radius 2 is:\", 3.13*(2**2) )\n",
    "\n",
    "test_list = [1,2,3,4]\n",
    "print('min of list:',min( test_list) )\n",
    "print('max of list:',max( test_list) )\n",
    "print('number of elements in list:',len( test_list) )\n",
    "\n"
   ]
  },
  {
   "cell_type": "markdown",
   "id": "17f081c0-e1af-4760-8093-b6394827f806",
   "metadata": {},
   "source": [
    "There is another kind of built-in function. These functions are associated with a data type, and are known as \"methods.\" Methods belong to a data type. If you look at the help page for a `list`, you will see a list of methods: `append`, `extend`, `insert`, etc. I use `append` a lot, and we will need it in the questions:"
   ]
  },
  {
   "cell_type": "code",
   "execution_count": null,
   "id": "f83eb17b-dade-4280-943b-960f401a4174",
   "metadata": {},
   "outputs": [
    {
     "name": "stdout",
     "output_type": "stream",
     "text": [
      "[100, 200, 300, 3.14, 400]\n"
     ]
    }
   ],
   "source": [
    "a = 100\n",
    "b = 200\n",
    "c = 300\n",
    "pi = 3.14\n",
    "\n",
    "my_first_list = [a, b, c, pi]\n",
    "my_first_list.append(400)\n",
    "print(my_first_list)"
   ]
  },
  {
   "cell_type": "markdown",
   "id": "96fb0c7c-3b49-4706-b1d9-8401d47a1149",
   "metadata": {},
   "source": [
    "So the \"append\" method adds a new element to the list. The idea of a method has to do with \"object oriented programming,\" which will talk about a little bit in the next lab. Methods are implemented as functions in Python. For now, the main thing to note is that \"append\" wouldn't make sense on an integer or a boolean. So instead of a general purpose function (like `print`), `append` is associated only with lists so that you can't try something like `10.append(3)`."
   ]
  },
  {
   "cell_type": "markdown",
   "id": "aa2cd69e-b744-4caf-bee4-ec001bc05cec",
   "metadata": {},
   "source": [
    "## 4. Loops\n"
   ]
  },
  {
   "cell_type": "markdown",
   "id": "b6b86fea-cfc2-49a7-8ef4-0c5ffbf0a763",
   "metadata": {},
   "source": [
    "\n",
    "There is a built-in function called `range`, which will make a sequence of numbers equal to argument. This let's us define \"loops\", which can be used to do a lot of operations quickly.\n",
    "\n",
    "We define a loop like this:\n"
   ]
  },
  {
   "cell_type": "code",
   "execution_count": null,
   "id": "371e6b31-737c-4e82-b2cc-1870796eaea0",
   "metadata": {},
   "outputs": [
    {
     "name": "stdout",
     "output_type": "stream",
     "text": [
      "0\n",
      "1\n",
      "2\n",
      "3\n",
      "4\n",
      "5\n",
      "6\n",
      "7\n",
      "8\n",
      "9\n"
     ]
    }
   ],
   "source": [
    "for my_index in range(10):\n",
    "    print(my_index)"
   ]
  },
  {
   "cell_type": "markdown",
   "id": "a3d232a4-31f3-4c87-8fa6-ee827c6dd270",
   "metadata": {},
   "source": [
    "`my_index` is a variable, which can be anything. We often will use this variable as an index, and we sometimes reserve `ii`, `jj`, `kk`, etc. to name indices in loops. These characters are easy to find in a text search, and relatively rare in English so won't usually name a variable with `ii` or `jj` in the name.\n",
    "\n",
    "We can do whatever we want within the loop. For example, you can count up numbers 0 to 1000 like this:"
   ]
  },
  {
   "cell_type": "code",
   "execution_count": null,
   "id": "1379bf22-f56d-4011-ac8e-62cb666fcdcb",
   "metadata": {},
   "outputs": [
    {
     "name": "stdout",
     "output_type": "stream",
     "text": [
      "500500\n"
     ]
    }
   ],
   "source": [
    "total_sum = 0\n",
    "for ii in range(1001):\n",
    "    total_sum += ii\n",
    "print(total_sum)"
   ]
  },
  {
   "cell_type": "markdown",
   "id": "2aaa1e9a-dd32-4107-b6d1-9b7c80ca5430",
   "metadata": {},
   "source": [
    "There is an analytic way of calculating this number---can you verify that this result is correct? Note that range returns the **number** of elements equal to the argument, but the **range is from 0 to `arg-1`**.\n",
    "\n",
    "\n",
    "You can call a function within a loop, or write a loops of loops.\n",
    "\n"
   ]
  },
  {
   "cell_type": "code",
   "execution_count": null,
   "id": "f65a6b5a-afe4-46f4-8ef2-2586ba3f0921",
   "metadata": {},
   "outputs": [
    {
     "name": "stdout",
     "output_type": "stream",
     "text": [
      "example loop with a function.\n",
      "ii is currently: 0\n",
      "it's square is:  0\n",
      "ii is currently: 1\n",
      "it's square is:  1\n",
      "ii is currently: 2\n",
      "it's square is:  4\n",
      "ii is currently: 3\n",
      "it's square is:  9\n",
      "ii is currently: 4\n",
      "it's square is:  16\n",
      "example loop of loops\n",
      "input ii: 0 input jj: 0 product: 0\n",
      "input ii: 0 input jj: 1 product: 0\n",
      "input ii: 0 input jj: 2 product: 0\n",
      "input ii: 1 input jj: 0 product: 0\n",
      "input ii: 1 input jj: 1 product: 1\n",
      "input ii: 1 input jj: 2 product: 2\n",
      "input ii: 2 input jj: 0 product: 0\n",
      "input ii: 2 input jj: 1 product: 2\n",
      "input ii: 2 input jj: 2 product: 4\n",
      "input ii: 3 input jj: 0 product: 0\n",
      "input ii: 3 input jj: 1 product: 3\n",
      "input ii: 3 input jj: 2 product: 6\n",
      "input ii: 4 input jj: 0 product: 0\n",
      "input ii: 4 input jj: 1 product: 4\n",
      "input ii: 4 input jj: 2 product: 8\n"
     ]
    }
   ],
   "source": [
    "def quick_square(x):\n",
    "    return x**2\n",
    "\n",
    "print('example loop with a function.')\n",
    "for ii in range(5):\n",
    "    print('ii is currently:',ii)\n",
    "    print(\"it's square is: \",quick_square(ii))\n",
    "\n",
    "\n",
    "print('example loop of loops')\n",
    "for ii in range(5):\n",
    "    for jj in range(3):\n",
    "        print('input ii:',ii, 'input jj:',jj,'product:',ii*jj)"
   ]
  },
  {
   "cell_type": "markdown",
   "id": "bf879e9e-d9e1-4543-a677-82f71e366c55",
   "metadata": {},
   "source": [
    "Notice how the `print` statements are lined up and indented under the line that starts the loop. The indentation is important---this defines the scope of the loop.\n",
    "\n",
    "Lastly, you can use the variable sequence from `range` as an index for a list. A very common formula is to define a list, and then run `range` on `len(my_list)`:"
   ]
  },
  {
   "cell_type": "code",
   "execution_count": 61,
   "id": "be3a688f-6bc0-4398-9027-b42e48e97ebe",
   "metadata": {},
   "outputs": [
    {
     "name": "stdout",
     "output_type": "stream",
     "text": [
      "printing out list, element by element in a loop:    100\n",
      "printing out list, element by element in a loop:    200\n",
      "printing out list, element by element in a loop:    300\n",
      "printing out list, element by element in a loop:    3.14\n"
     ]
    }
   ],
   "source": [
    "a = 100\n",
    "b = 200\n",
    "c = 300\n",
    "pi = 3.14\n",
    "\n",
    "my_first_list = [a, b, c, pi]\n",
    "\n",
    "for ii in range(len(my_first_list)):\n",
    "    print( 'printing out list, element by element in a loop:   ',my_first_list[ii] )"
   ]
  },
  {
   "cell_type": "markdown",
   "id": "a7baef13-56b7-4408-9539-f29a214dbe55",
   "metadata": {
    "jupyter": {
     "source_hidden": true
    }
   },
   "source": [
    "A typical use case might be to load a lot of data from a database into two or three or four lists, and then do calculations on the data:"
   ]
  },
  {
   "cell_type": "code",
   "execution_count": 60,
   "id": "4f5bd3a8-2334-43fe-8bcb-2fec10a2f931",
   "metadata": {},
   "outputs": [
    {
     "name": "stdout",
     "output_type": "stream",
     "text": [
      "area of ellipse  0 :   0.3455749\n",
      "area of ellipse  1 :   1.3822996\n",
      "area of ellipse  2 :   3.1101740999999996\n",
      "area of ellipse  3 :   5.5291984\n"
     ]
    }
   ],
   "source": [
    "major_axis = [1.1, 2.2, 3.3, 4.4 ]\n",
    "minor_axis = [0.1, 0.2, 0.3, 0.4 ]\n",
    "pi = 3.14159\n",
    "\n",
    "for ii in range(len( major_axis)):\n",
    "    major_axis_use = major_axis[ii]\n",
    "    minor_axis_use = minor_axis[ii]\n",
    "    area_of_ellipse = pi*major_axis_use*minor_axis_use\n",
    "    \n",
    "    print('area of ellipse ', ii,':  ', area_of_ellipse)"
   ]
  },
  {
   "cell_type": "markdown",
   "id": "81ca31e2-1f72-4518-813b-6f4a4f0c515c",
   "metadata": {},
   "source": [
    "## 5. Questions\n",
    "\n",
    "1) Write a function that converts parallax to distance. Assume parallax is in milliarcseconds, and return the distance in parsecs. Test your function by printing the output of your function for the given data."
   ]
  },
  {
   "cell_type": "code",
   "execution_count": null,
   "id": "83e27393-2baf-4c23-adfc-76c47fad4c0a",
   "metadata": {},
   "outputs": [],
   "source": [
    "\n",
    "\n"
   ]
  },
  {
   "cell_type": "markdown",
   "id": "a169b794-d102-48a7-b1c6-bd2ba1e9dd20",
   "metadata": {},
   "source": [
    "2) Write a function that takes a distance (in parsecs) and an apparent magnitude, and converts to an absolute magnitude. Test your function by printing the output of your function for the given data. You will need a special function to do base 10 logarithms, which I have set up for you below"
   ]
  },
  {
   "cell_type": "code",
   "execution_count": null,
   "id": "7cf9cef7-cbdd-485a-9004-3721bdfd0106",
   "metadata": {},
   "outputs": [],
   "source": []
  },
  {
   "cell_type": "code",
   "execution_count": null,
   "id": "6dc02dc8-b6e4-4981-881d-358924b21f8a",
   "metadata": {},
   "outputs": [],
   "source": []
  },
  {
   "cell_type": "markdown",
   "id": "93d358ca-2298-4687-8cd1-e8cdae101219",
   "metadata": {},
   "source": [
    "3) Write a function that converts an absolute magnitude to luminosity, in units of solar luminosity. Test your function by printing the output of your function for the given data"
   ]
  },
  {
   "cell_type": "code",
   "execution_count": null,
   "id": "d0f36d73-1bf7-4b4d-8ddd-2d766a1234aa",
   "metadata": {},
   "outputs": [],
   "source": []
  },
  {
   "cell_type": "markdown",
   "id": "2f1cbeb0-04bb-4c02-b716-aa3bc83bd2dd",
   "metadata": {},
   "source": [
    "4) The following code will import data into 4 lists, `bp_rp`, `g_mag`, `parallax`, and `Teff`. Run the code in the cell to populate the lists with data. (By the way, this only works if you upload the file gaiadr3_100k_star_filtered.csv to the same place as this file.)"
   ]
  },
  {
   "cell_type": "code",
   "execution_count": null,
   "id": "9c1de48c-d183-4149-a31c-7eabe3f56e7b",
   "metadata": {},
   "outputs": [],
   "source": []
  },
  {
   "cell_type": "markdown",
   "id": "e38abc3d-bd3e-4dce-b1fa-577f5e474a12",
   "metadata": {},
   "source": [
    "What just happened? Besides the built-in functions, there are other sets of useful functions out in the world. You have to tell Python that you would like to use these functions, since they aren't loaded by default. This is what `import numpy as np` does. We then use a function from `numpy`, which is called `loadtxt`. The `np.loadtxt` is convenient for remembering where `loadtxt` is from.\n",
    "\n",
    "Anyway, all that happened was that we found a special function to load in data, helpfully called `loadtxt`. We'll discuss details of loading in data in the next coding lab, but notice that is just a single function call! Hopefully that gives you some idea of how flexible and powerful functions are.\n",
    "\n",
    "These data are from Gaia DR3---if you open the file in the left-side navigation bar, you will see comments on how I selected them with an SQL query. `bp_rp` and `g_mag` you have seen before (except I named `g_mag` differently in Coding Lab 0). `parallax` and `Teff` are parallax and effective temperature, the quantities we discussed in class. \n",
    "\n"
   ]
  },
  {
   "cell_type": "markdown",
   "id": "3496e093-f60b-415d-b7cd-679cdcc630ca",
   "metadata": {},
   "source": [
    "How many elements are in each list? How many stars does this correspond to?\n",
    "\n",
    "What is the maximum value of Teff in this list? What is the minimum?\n",
    "\n",
    "If you convert parallax to distance (in parsecs), what is the closest star in this list? What is the most distant star?"
   ]
  },
  {
   "cell_type": "code",
   "execution_count": null,
   "id": "41c7a6da-9188-4ca3-b17a-81dbbe29bf58",
   "metadata": {},
   "outputs": [],
   "source": [
    "#Use this cell and built in python functions to inspect the data in the lists.\n"
   ]
  },
  {
   "cell_type": "markdown",
   "id": "ac2ed45b-6c11-4f11-a578-8d414135c07a",
   "metadata": {},
   "source": [
    "5) Using the functions you defined in questions 1, 2, and 3, loop through the stars and calculate the absolute magnitude and luminosity for each. I have provided empty lists that you can store the values in, using `append`."
   ]
  },
  {
   "cell_type": "code",
   "execution_count": null,
   "id": "48f86581-f7c1-46e3-96ff-b1c3cc524c71",
   "metadata": {},
   "outputs": [],
   "source": [
    "\n",
    "\n"
   ]
  },
  {
   "cell_type": "markdown",
   "id": "8edfbb65-a49b-465a-8aa0-5efd5b352060",
   "metadata": {},
   "source": [
    "6) To visualize this data, we will use a plotting package called `matplotlib`.  Plotting takes a lot of specialized functions. I've set up a template for you to make the plots.\n",
    "\n",
    "   For the `plot` function\n",
    " Populate the correct variables to make a CMD with absolute G mag as a function of BP-RP color and an HR-Diagram of Luminosity as a function of Temperature."
   ]
  },
  {
   "cell_type": "code",
   "execution_count": null,
   "id": "0c4eacf2-aff5-45cc-a565-2fcd0f83cdae",
   "metadata": {},
   "outputs": [],
   "source": [
    "\n",
    "\n"
   ]
  }
 ],
 "metadata": {
  "kernelspec": {
   "display_name": "Python 3 (ipykernel)",
   "language": "python",
   "name": "python3"
  },
  "language_info": {
   "codemirror_mode": {
    "name": "ipython",
    "version": 3
   },
   "file_extension": ".py",
   "mimetype": "text/x-python",
   "name": "python",
   "nbconvert_exporter": "python",
   "pygments_lexer": "ipython3",
   "version": "3.11.7"
  }
 },
 "nbformat": 4,
 "nbformat_minor": 5
}
